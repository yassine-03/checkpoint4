{
 "cells": [
  {
   "cell_type": "code",
   "execution_count": 1,
   "id": "a259a32b",
   "metadata": {},
   "outputs": [
    {
     "name": "stdout",
     "output_type": "stream",
     "text": [
      "enter the first number :6\n",
      "enter the second number :0\n",
      "enter the third number :9\n"
     ]
    },
    {
     "data": {
      "text/plain": [
       "9"
      ]
     },
     "execution_count": 1,
     "metadata": {},
     "output_type": "execute_result"
    }
   ],
   "source": [
    "def maximum (a,b,c):\n",
    "    if a > b and a > c :\n",
    "        return a\n",
    "    elif b > a and b > c :\n",
    "        return b\n",
    "    return c\n",
    "maximum(int(input('enter the first number :')),int(input('enter the second number :')),int(input('enter the third number :')))"
   ]
  },
  {
   "cell_type": "code",
   "execution_count": 3,
   "id": "76fc3f4b",
   "metadata": {},
   "outputs": [
    {
     "data": {
      "text/plain": [
       "(192, 40)"
      ]
     },
     "execution_count": 3,
     "metadata": {},
     "output_type": "execute_result"
    }
   ],
   "source": [
    "def calculation ( x,y ):\n",
    "    return x + y , x - y\n",
    "calculation(116,76)"
   ]
  },
  {
   "cell_type": "code",
   "execution_count": 4,
   "id": "417bf830",
   "metadata": {},
   "outputs": [
    {
     "name": "stdout",
     "output_type": "stream",
     "text": [
      "[504, 112]\n"
     ]
    }
   ],
   "source": [
    "L = [1,7,12,4,78,2,21,9]\n",
    "def somme (l):\n",
    "    S = 0\n",
    "    for x in l :\n",
    "        S += x\n",
    "    return S\n",
    "def multiplie (l):\n",
    "    M = 1\n",
    "    for x in l :\n",
    "        M *= x\n",
    "    return M\n",
    "impair_l = [L[i] for i in range(len(L)) if i % 2 == 1]\n",
    "pair_l = [L[i] for i in range(len(L)) if i % 2 == 0]\n",
    "L1 = [multiplie(impair_l) , somme(pair_l)]\n",
    "print(L1)"
   ]
  },
  {
   "cell_type": "code",
   "execution_count": 5,
   "id": "565d4ab5",
   "metadata": {},
   "outputs": [
    {
     "data": {
      "text/plain": [
       "'black-green-red-white-yellow'"
      ]
     },
     "execution_count": 5,
     "metadata": {},
     "output_type": "execute_result"
    }
   ],
   "source": [
    "s = \"green-red-yellow-black-white\"\n",
    "slist = sorted(s.split(\"-\"))\n",
    "\"-\".join(slist)"
   ]
  },
  {
   "cell_type": "code",
   "execution_count": 9,
   "id": "5ab00510",
   "metadata": {},
   "outputs": [
    {
     "name": "stdout",
     "output_type": "stream",
     "text": [
      "donner une sequence : 7\n"
     ]
    },
    {
     "data": {
      "text/plain": [
       "[5]"
      ]
     },
     "execution_count": 9,
     "metadata": {},
     "output_type": "execute_result"
    }
   ],
   "source": [
    "import math \n",
    "q = lambda c , h , d : math.sqrt((2*c*d)/h)\n",
    "c = 50\n",
    "h = 30\n",
    "d = input('donner une sequence : ')\n",
    "d = [int(x) for x in d.split(\",\")]\n",
    "[round(q(c , h , x)) for x in d]"
   ]
  },
  {
   "cell_type": "code",
   "execution_count": null,
   "id": "101a5e08",
   "metadata": {},
   "outputs": [],
   "source": []
  }
 ],
 "metadata": {
  "kernelspec": {
   "display_name": "Python 3 (ipykernel)",
   "language": "python",
   "name": "python3"
  },
  "language_info": {
   "codemirror_mode": {
    "name": "ipython",
    "version": 3
   },
   "file_extension": ".py",
   "mimetype": "text/x-python",
   "name": "python",
   "nbconvert_exporter": "python",
   "pygments_lexer": "ipython3",
   "version": "3.9.7"
  }
 },
 "nbformat": 4,
 "nbformat_minor": 5
}
